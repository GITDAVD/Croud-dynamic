{
 "cells": [
  {
   "cell_type": "markdown",
   "metadata": {
    "id": "MbGnIL90mulf"
   },
   "source": [
    "# Template pour la prémaration du cours ( Exemple du gradient à pas constant) "
   ]
  },
  {
   "cell_type": "markdown",
   "metadata": {
    "id": "-5c0jLps1Xm8"
   },
   "source": [
    "## Titre:  Gradient à pas constant\n",
    "\n",
    "### Membres de l'équaipe:\n",
    "  1. Nom_1 Prenom_1 \n",
    "  2. \n",
    "  3. \n",
    "  4. \n",
    "  5. (-)"
   ]
  },
  {
   "cell_type": "markdown",
   "metadata": {
    "id": "um82O5LDnB4c"
   },
   "source": [
    "### Description de l'algorithme :\n",
    "\n",
    "1.  Initialisation: choisir $x^0$ dans $V$.\n",
    "2. Test d'arrêt :  $||f'(x^n)||<\\epsilon$ \n",
    "3.  Itérations: pour $n \\geq 0$ :\n",
    "$$\n",
    "x^{n+1}=x^n-\\mu f^{\\prime}\\left(x^n\\right),\n",
    "$$"
   ]
  },
  {
   "cell_type": "markdown",
   "metadata": {
    "id": "iNVGNvjdnSSh"
   },
   "source": [
    "### Convergence : \n",
    "\n",
    " \n",
    "Enoncez le resultat (Théorème)de convergnce "
   ]
  },
  {
   "cell_type": "markdown",
   "metadata": {
    "id": "qwV-IrrzoTTZ"
   },
   "source": [
    "### Implémentation et simulations numériques\n",
    "\n",
    "1. Programmation de l'algorithme avec des tests de validation \n",
    "2. Programmation fonctionnelle (CVXOP ou scipy.minimize) \n",
    "3. Comparaison des resultats des deux algorithmes : précision et vitesse de convergence /nombre d'iterations "
   ]
  },
  {
   "cell_type": "code",
   "execution_count": null,
   "metadata": {
    "id": "40N7rYC0mtxU"
   },
   "outputs": [],
   "source": [
    "Script_1 : Implémentation manuelle (N'oubliez pas de commenter le code)"
   ]
  },
  {
   "cell_type": "code",
   "execution_count": null,
   "metadata": {},
   "outputs": [],
   "source": [
    "Script_2 : Programmation fonctionnelle (Avac CVXOP ou minimize)"
   ]
  },
  {
   "cell_type": "raw",
   "metadata": {},
   "source": []
  }
 ],
 "metadata": {
  "colab": {
   "authorship_tag": "ABX9TyNhAeAjlB3d9OGntzZ3PgDg",
   "provenance": []
  },
  "kernelspec": {
   "display_name": "Python 3 (ipykernel)",
   "language": "python",
   "name": "python3"
  },
  "language_info": {
   "codemirror_mode": {
    "name": "ipython",
    "version": 3
   },
   "file_extension": ".py",
   "mimetype": "text/x-python",
   "name": "python",
   "nbconvert_exporter": "python",
   "pygments_lexer": "ipython3",
   "version": "3.9.13"
  }
 },
 "nbformat": 4,
 "nbformat_minor": 1
}
